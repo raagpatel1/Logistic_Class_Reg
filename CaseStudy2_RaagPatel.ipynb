{
 "cells": [
  {
   "cell_type": "code",
   "execution_count": 26,
   "metadata": {},
   "outputs": [],
   "source": [
    "import numpy as np\n",
    "import pandas as pd\n",
    "import seaborn as sns\n",
    "import matplotlib.pyplot as plt\n",
    "from sklearn.impute import SimpleImputer\n",
    "from sklearn.feature_selection import RFE\n",
    "from sklearn.model_selection import train_test_split\n",
    "from sklearn.linear_model import LogisticRegression\n",
    "from sklearn.metrics import accuracy_score, precision_score, recall_score, f1_score, roc_curve, auc"
   ]
  },
  {
   "cell_type": "code",
   "execution_count": 27,
   "metadata": {},
   "outputs": [],
   "source": [
    "df = pd.read_csv('diabetic_data.csv')\n",
    "\n",
    "clean = df.replace('?',np.nan)\n",
    "clean = clean.drop(['encounter_id','patient_nbr'], axis = 1)\n",
    "clean['readmitted'] = clean['readmitted'].apply(lambda x: 'YES' if x != 'NO' else 'NO')"
   ]
  },
  {
   "cell_type": "code",
   "execution_count": 28,
   "metadata": {},
   "outputs": [
    {
     "data": {
      "text/html": [
       "<div>\n",
       "<style scoped>\n",
       "    .dataframe tbody tr th:only-of-type {\n",
       "        vertical-align: middle;\n",
       "    }\n",
       "\n",
       "    .dataframe tbody tr th {\n",
       "        vertical-align: top;\n",
       "    }\n",
       "\n",
       "    .dataframe thead th {\n",
       "        text-align: right;\n",
       "    }\n",
       "</style>\n",
       "<table border=\"1\" class=\"dataframe\">\n",
       "  <thead>\n",
       "    <tr style=\"text-align: right;\">\n",
       "      <th></th>\n",
       "      <th>Column Name</th>\n",
       "      <th>Missing Values</th>\n",
       "      <th>Percentage</th>\n",
       "    </tr>\n",
       "  </thead>\n",
       "  <tbody>\n",
       "    <tr>\n",
       "      <th>0</th>\n",
       "      <td>race</td>\n",
       "      <td>2273</td>\n",
       "      <td>2.23%</td>\n",
       "    </tr>\n",
       "    <tr>\n",
       "      <th>1</th>\n",
       "      <td>weight</td>\n",
       "      <td>98569</td>\n",
       "      <td>96.86%</td>\n",
       "    </tr>\n",
       "    <tr>\n",
       "      <th>2</th>\n",
       "      <td>payer_code</td>\n",
       "      <td>40256</td>\n",
       "      <td>39.56%</td>\n",
       "    </tr>\n",
       "    <tr>\n",
       "      <th>3</th>\n",
       "      <td>medical_specialty</td>\n",
       "      <td>49949</td>\n",
       "      <td>49.08%</td>\n",
       "    </tr>\n",
       "    <tr>\n",
       "      <th>4</th>\n",
       "      <td>diag_1</td>\n",
       "      <td>21</td>\n",
       "      <td>0.02%</td>\n",
       "    </tr>\n",
       "    <tr>\n",
       "      <th>5</th>\n",
       "      <td>diag_2</td>\n",
       "      <td>358</td>\n",
       "      <td>0.35%</td>\n",
       "    </tr>\n",
       "    <tr>\n",
       "      <th>6</th>\n",
       "      <td>diag_3</td>\n",
       "      <td>1423</td>\n",
       "      <td>1.40%</td>\n",
       "    </tr>\n",
       "    <tr>\n",
       "      <th>7</th>\n",
       "      <td>max_glu_serum</td>\n",
       "      <td>96420</td>\n",
       "      <td>94.75%</td>\n",
       "    </tr>\n",
       "    <tr>\n",
       "      <th>8</th>\n",
       "      <td>A1Cresult</td>\n",
       "      <td>84748</td>\n",
       "      <td>83.28%</td>\n",
       "    </tr>\n",
       "  </tbody>\n",
       "</table>\n",
       "</div>"
      ],
      "text/plain": [
       "         Column Name  Missing Values Percentage\n",
       "0               race            2273      2.23%\n",
       "1             weight           98569     96.86%\n",
       "2         payer_code           40256     39.56%\n",
       "3  medical_specialty           49949     49.08%\n",
       "4             diag_1              21      0.02%\n",
       "5             diag_2             358      0.35%\n",
       "6             diag_3            1423      1.40%\n",
       "7      max_glu_serum           96420     94.75%\n",
       "8          A1Cresult           84748     83.28%"
      ]
     },
     "execution_count": 28,
     "metadata": {},
     "output_type": "execute_result"
    }
   ],
   "source": [
    "# Identify columns with missing data\n",
    "missing_data = clean.isnull().sum()\n",
    "\n",
    "# Filter columns with missing data more than 0\n",
    "missing_columns = missing_data[missing_data > 0]\n",
    "\n",
    "# Calculate the percentage of missing values\n",
    "total_rows = len(clean)\n",
    "missing_columns_percentage = (missing_columns / total_rows) * 100\n",
    "\n",
    "# Create a DataFrame to hold the results\n",
    "missing_info_df = pd.DataFrame({'Column Name': missing_columns.index, 'Missing Values': missing_columns.values, 'Percentage': missing_columns_percentage.values})\n",
    "missing_info_df['Percentage'] = missing_info_df['Percentage'].apply(lambda x: '{:.2f}%'.format(x))\n",
    "\n",
    "missing_info_df"
   ]
  },
  {
   "cell_type": "code",
   "execution_count": 29,
   "metadata": {},
   "outputs": [],
   "source": [
    "# 0. Impute race with mode\n",
    "mode_race = clean['race'].mode()[0]\n",
    "clean['race'].fillna(mode_race, inplace=True)\n",
    "\n",
    "# 1. Drop weight column\n",
    "clean.drop('weight', axis=1, inplace=True)\n",
    "\n",
    "# 2. Impute payer_code with 'UNKNOWN'\n",
    "clean['payer_code'].fillna('UNKNOWN', inplace=True)\n",
    "\n",
    "# 3. Impute medical_specialty with 'UNKNOWN'\n",
    "clean['medical_specialty'].fillna('UNKNOWN', inplace=True)\n",
    "\n",
    "# 4,5,6. Impute diag_1, diag_2, and diag_3 with 0\n",
    "for col in ['diag_1', 'diag_2', 'diag_3']:\n",
    "    clean[col].fillna(0, inplace=True)\n",
    "\n",
    "# 7,8. Drop max_glu_serum and A1Cresult columns\n",
    "clean.drop(['max_glu_serum', 'A1Cresult'], axis=1, inplace=True)"
   ]
  },
  {
   "cell_type": "code",
   "execution_count": 17,
   "metadata": {},
   "outputs": [
    {
     "data": {
      "text/plain": [
       "Index(['race', 'gender', 'age', 'weight', 'admission_type_id',\n",
       "       'discharge_disposition_id', 'admission_source_id', 'time_in_hospital',\n",
       "       'payer_code', 'medical_specialty', 'num_lab_procedures',\n",
       "       'num_procedures', 'num_medications', 'number_outpatient',\n",
       "       'number_emergency', 'number_inpatient', 'diag_1', 'diag_2', 'diag_3',\n",
       "       'number_diagnoses', 'max_glu_serum', 'A1Cresult', 'metformin',\n",
       "       'repaglinide', 'nateglinide', 'chlorpropamide', 'glimepiride',\n",
       "       'acetohexamide', 'glipizide', 'glyburide', 'tolbutamide',\n",
       "       'pioglitazone', 'rosiglitazone', 'acarbose', 'miglitol', 'troglitazone',\n",
       "       'tolazamide', 'examide', 'citoglipton', 'insulin',\n",
       "       'glyburide-metformin', 'glipizide-metformin',\n",
       "       'glimepiride-pioglitazone', 'metformin-rosiglitazone',\n",
       "       'metformin-pioglitazone', 'change', 'diabetesMed', 'readmitted'],\n",
       "      dtype='object')"
      ]
     },
     "execution_count": 17,
     "metadata": {},
     "output_type": "execute_result"
    }
   ],
   "source": [
    "clean.columns"
   ]
  },
  {
   "cell_type": "code",
   "execution_count": 18,
   "metadata": {},
   "outputs": [
    {
     "data": {
      "text/plain": [
       "(101766, 48)"
      ]
     },
     "execution_count": 18,
     "metadata": {},
     "output_type": "execute_result"
    }
   ],
   "source": [
    "clean.shape"
   ]
  },
  {
   "cell_type": "code",
   "execution_count": 5,
   "metadata": {},
   "outputs": [
    {
     "data": {
      "text/html": [
       "<div>\n",
       "<style scoped>\n",
       "    .dataframe tbody tr th:only-of-type {\n",
       "        vertical-align: middle;\n",
       "    }\n",
       "\n",
       "    .dataframe tbody tr th {\n",
       "        vertical-align: top;\n",
       "    }\n",
       "\n",
       "    .dataframe thead th {\n",
       "        text-align: right;\n",
       "    }\n",
       "</style>\n",
       "<table border=\"1\" class=\"dataframe\">\n",
       "  <thead>\n",
       "    <tr style=\"text-align: right;\">\n",
       "      <th></th>\n",
       "      <th>admission_type_id</th>\n",
       "      <th>discharge_disposition_id</th>\n",
       "      <th>admission_source_id</th>\n",
       "      <th>time_in_hospital</th>\n",
       "      <th>num_lab_procedures</th>\n",
       "      <th>num_procedures</th>\n",
       "      <th>num_medications</th>\n",
       "      <th>number_outpatient</th>\n",
       "      <th>number_emergency</th>\n",
       "      <th>number_inpatient</th>\n",
       "      <th>number_diagnoses</th>\n",
       "    </tr>\n",
       "  </thead>\n",
       "  <tbody>\n",
       "    <tr>\n",
       "      <th>count</th>\n",
       "      <td>101766.000000</td>\n",
       "      <td>101766.000000</td>\n",
       "      <td>101766.000000</td>\n",
       "      <td>101766.000000</td>\n",
       "      <td>101766.000000</td>\n",
       "      <td>101766.000000</td>\n",
       "      <td>101766.000000</td>\n",
       "      <td>101766.000000</td>\n",
       "      <td>101766.000000</td>\n",
       "      <td>101766.000000</td>\n",
       "      <td>101766.000000</td>\n",
       "    </tr>\n",
       "    <tr>\n",
       "      <th>mean</th>\n",
       "      <td>2.024006</td>\n",
       "      <td>3.715642</td>\n",
       "      <td>5.754437</td>\n",
       "      <td>4.395987</td>\n",
       "      <td>43.095641</td>\n",
       "      <td>1.339730</td>\n",
       "      <td>16.021844</td>\n",
       "      <td>0.369357</td>\n",
       "      <td>0.197836</td>\n",
       "      <td>0.635566</td>\n",
       "      <td>7.422607</td>\n",
       "    </tr>\n",
       "    <tr>\n",
       "      <th>std</th>\n",
       "      <td>1.445403</td>\n",
       "      <td>5.280166</td>\n",
       "      <td>4.064081</td>\n",
       "      <td>2.985108</td>\n",
       "      <td>19.674362</td>\n",
       "      <td>1.705807</td>\n",
       "      <td>8.127566</td>\n",
       "      <td>1.267265</td>\n",
       "      <td>0.930472</td>\n",
       "      <td>1.262863</td>\n",
       "      <td>1.933600</td>\n",
       "    </tr>\n",
       "    <tr>\n",
       "      <th>min</th>\n",
       "      <td>1.000000</td>\n",
       "      <td>1.000000</td>\n",
       "      <td>1.000000</td>\n",
       "      <td>1.000000</td>\n",
       "      <td>1.000000</td>\n",
       "      <td>0.000000</td>\n",
       "      <td>1.000000</td>\n",
       "      <td>0.000000</td>\n",
       "      <td>0.000000</td>\n",
       "      <td>0.000000</td>\n",
       "      <td>1.000000</td>\n",
       "    </tr>\n",
       "    <tr>\n",
       "      <th>25%</th>\n",
       "      <td>1.000000</td>\n",
       "      <td>1.000000</td>\n",
       "      <td>1.000000</td>\n",
       "      <td>2.000000</td>\n",
       "      <td>31.000000</td>\n",
       "      <td>0.000000</td>\n",
       "      <td>10.000000</td>\n",
       "      <td>0.000000</td>\n",
       "      <td>0.000000</td>\n",
       "      <td>0.000000</td>\n",
       "      <td>6.000000</td>\n",
       "    </tr>\n",
       "    <tr>\n",
       "      <th>50%</th>\n",
       "      <td>1.000000</td>\n",
       "      <td>1.000000</td>\n",
       "      <td>7.000000</td>\n",
       "      <td>4.000000</td>\n",
       "      <td>44.000000</td>\n",
       "      <td>1.000000</td>\n",
       "      <td>15.000000</td>\n",
       "      <td>0.000000</td>\n",
       "      <td>0.000000</td>\n",
       "      <td>0.000000</td>\n",
       "      <td>8.000000</td>\n",
       "    </tr>\n",
       "    <tr>\n",
       "      <th>75%</th>\n",
       "      <td>3.000000</td>\n",
       "      <td>4.000000</td>\n",
       "      <td>7.000000</td>\n",
       "      <td>6.000000</td>\n",
       "      <td>57.000000</td>\n",
       "      <td>2.000000</td>\n",
       "      <td>20.000000</td>\n",
       "      <td>0.000000</td>\n",
       "      <td>0.000000</td>\n",
       "      <td>1.000000</td>\n",
       "      <td>9.000000</td>\n",
       "    </tr>\n",
       "    <tr>\n",
       "      <th>max</th>\n",
       "      <td>8.000000</td>\n",
       "      <td>28.000000</td>\n",
       "      <td>25.000000</td>\n",
       "      <td>14.000000</td>\n",
       "      <td>132.000000</td>\n",
       "      <td>6.000000</td>\n",
       "      <td>81.000000</td>\n",
       "      <td>42.000000</td>\n",
       "      <td>76.000000</td>\n",
       "      <td>21.000000</td>\n",
       "      <td>16.000000</td>\n",
       "    </tr>\n",
       "  </tbody>\n",
       "</table>\n",
       "</div>"
      ],
      "text/plain": [
       "       admission_type_id  discharge_disposition_id  admission_source_id  \\\n",
       "count      101766.000000             101766.000000        101766.000000   \n",
       "mean            2.024006                  3.715642             5.754437   \n",
       "std             1.445403                  5.280166             4.064081   \n",
       "min             1.000000                  1.000000             1.000000   \n",
       "25%             1.000000                  1.000000             1.000000   \n",
       "50%             1.000000                  1.000000             7.000000   \n",
       "75%             3.000000                  4.000000             7.000000   \n",
       "max             8.000000                 28.000000            25.000000   \n",
       "\n",
       "       time_in_hospital  num_lab_procedures  num_procedures  num_medications  \\\n",
       "count     101766.000000       101766.000000   101766.000000    101766.000000   \n",
       "mean           4.395987           43.095641        1.339730        16.021844   \n",
       "std            2.985108           19.674362        1.705807         8.127566   \n",
       "min            1.000000            1.000000        0.000000         1.000000   \n",
       "25%            2.000000           31.000000        0.000000        10.000000   \n",
       "50%            4.000000           44.000000        1.000000        15.000000   \n",
       "75%            6.000000           57.000000        2.000000        20.000000   \n",
       "max           14.000000          132.000000        6.000000        81.000000   \n",
       "\n",
       "       number_outpatient  number_emergency  number_inpatient  number_diagnoses  \n",
       "count      101766.000000     101766.000000     101766.000000     101766.000000  \n",
       "mean            0.369357          0.197836          0.635566          7.422607  \n",
       "std             1.267265          0.930472          1.262863          1.933600  \n",
       "min             0.000000          0.000000          0.000000          1.000000  \n",
       "25%             0.000000          0.000000          0.000000          6.000000  \n",
       "50%             0.000000          0.000000          0.000000          8.000000  \n",
       "75%             0.000000          0.000000          1.000000          9.000000  \n",
       "max            42.000000         76.000000         21.000000         16.000000  "
      ]
     },
     "execution_count": 5,
     "metadata": {},
     "output_type": "execute_result"
    }
   ],
   "source": [
    "clean.describe()"
   ]
  },
  {
   "cell_type": "code",
   "execution_count": 6,
   "metadata": {},
   "outputs": [],
   "source": [
    "# 1. Data Pre-processing\n",
    "# Drop the target column and set up X and y\n",
    "X = clean.drop('readmitted', axis=1)\n",
    "y = clean['readmitted']\n",
    "\n",
    "# Convert categorical columns to dummy variables\n",
    "X = pd.get_dummies(X, drop_first=True)\n",
    "\n",
    "# Split the data\n",
    "X_train, X_test, y_train, y_test = train_test_split(X, y, test_size=0.3, random_state=7337)"
   ]
  },
  {
   "cell_type": "code",
   "execution_count": null,
   "metadata": {},
   "outputs": [],
   "source": []
  },
  {
   "cell_type": "code",
   "execution_count": 7,
   "metadata": {},
   "outputs": [
    {
     "name": "stdout",
     "output_type": "stream",
     "text": [
      "(101766, 2415)\n"
     ]
    }
   ],
   "source": [
    "print(X.shape)"
   ]
  },
  {
   "cell_type": "code",
   "execution_count": 8,
   "metadata": {},
   "outputs": [
    {
     "name": "stdout",
     "output_type": "stream",
     "text": [
      "Accuracy: 0.6262364886996397\n",
      "Precision: 0.6392564587271582\n",
      "Recall: 0.4328379435397853\n",
      "F1-Score: 0.5161755352978589\n"
     ]
    }
   ],
   "source": [
    "# 2. Train a Logistic Regression Model\n",
    "model = LogisticRegression(max_iter = 100, n_jobs=-1)\n",
    "model.fit(X_train, y_train)\n",
    "\n",
    "# 3. Evaluate the Model\n",
    "y_pred = model.predict(X_test)\n",
    "\n",
    "print(f'Accuracy: {accuracy_score(y_test, y_pred)}')\n",
    "print(f'Precision: {precision_score(y_test, y_pred, pos_label=\"YES\")}')\n",
    "print(f'Recall: {recall_score(y_test, y_pred, pos_label=\"YES\")}')\n",
    "print(f'F1-Score: {f1_score(y_test, y_pred, pos_label=\"YES\")}')"
   ]
  },
  {
   "cell_type": "code",
   "execution_count": 9,
   "metadata": {},
   "outputs": [
    {
     "data": {
      "image/png": "[encoded data removed]",
      "text/plain": [
       "<Figure size 640x480 with 1 Axes>"
      ]
     },
     "metadata": {},
     "output_type": "display_data"
    }
   ],
   "source": [
    "fpr, tpr, thresholds = roc_curve(y_test, model.predict_proba(X_test)[:,1], pos_label=\"YES\")\n",
    "plt.figure()\n",
    "plt.plot(fpr, tpr, color='darkorange', lw=2, label='ROC curve (area = %0.2f)' % auc(fpr, tpr))\n",
    "plt.xlabel('False Positive Rate')\n",
    "plt.ylabel('True Positive Rate')\n",
    "plt.title('Receiver Operating Characteristic Curve')\n",
    "plt.legend(loc=\"lower right\")\n",
    "plt.show()"
   ]
  },
  {
   "cell_type": "code",
   "execution_count": 10,
   "metadata": {},
   "outputs": [
    {
     "name": "stdout",
     "output_type": "stream",
     "text": [
      "       Coefficient  Abs_Coefficient\n",
      "count  2415.000000      2415.000000\n",
      "mean     -0.000360         0.006546\n",
      "std       0.022085         0.021095\n",
      "min      -0.197550         0.000000\n",
      "25%      -0.001624         0.000459\n",
      "50%      -0.000355         0.001146\n",
      "75%       0.000705         0.003510\n",
      "max       0.346405         0.346405\n"
     ]
    },
    {
     "data": {
      "image/png": "[encoded data removed]",
      "text/plain": [
       "<Figure size 1000x600 with 1 Axes>"
      ]
     },
     "metadata": {},
     "output_type": "display_data"
    }
   ],
   "source": [
    "# Display the coefficients\n",
    "coefficients = model.coef_\n",
    "intercept = model.intercept_\n",
    "\n",
    "# Mapping coefficients to their respective features\n",
    "feature_importance = pd.DataFrame({\n",
    "    'Feature': X_train.columns,\n",
    "    'Coefficient': coefficients[0]\n",
    "}).sort_values(by='Coefficient', ascending=False)\n",
    "\n",
    "\n",
    "# Convert coefficients to absolute values\n",
    "feature_importance['Abs_Coefficient'] = feature_importance['Coefficient'].abs()\n",
    "\n",
    "print(feature_importance.describe())\n",
    "\n",
    "# Plot histogram of absolute coefficients\n",
    "plt.figure(figsize=(10, 6))\n",
    "feature_importance['Abs_Coefficient'].hist(bins=30)\n",
    "plt.title('Histogram of Absolute Coefficients')\n",
    "plt.xlabel('Absolute Coefficient Value')\n",
    "plt.ylabel('Number of Features')\n",
    "plt.grid(True)\n",
    "plt.show()"
   ]
  },
  {
   "cell_type": "code",
   "execution_count": 11,
   "metadata": {},
   "outputs": [],
   "source": [
    "filtered_features = feature_importance[feature_importance['Abs_Coefficient'] >= .003510]\n",
    "selected_features = filtered_features['Feature'].tolist()"
   ]
  },
  {
   "cell_type": "code",
   "execution_count": 12,
   "metadata": {},
   "outputs": [
    {
     "name": "stdout",
     "output_type": "stream",
     "text": [
      "Accuracy (Selected Features): 0.6306256141500164\n",
      "Precision (Selected Features): 0.6361681329423264\n",
      "Recall (Selected Features): 0.462774656901088\n",
      "F1-Score (Selected Features): 0.535792203515416\n"
     ]
    }
   ],
   "source": [
    "# 5. Train and Evaluate the Model with Selected Features\n",
    "X_train_selected = X_train[selected_features]\n",
    "X_test_selected = X_test[selected_features]\n",
    "\n",
    "model_selected = LogisticRegression(max_iter=100, n_jobs=-1)\n",
    "model_selected.fit(X_train_selected, y_train)\n",
    "\n",
    "y_pred_selected = model_selected.predict(X_test_selected)\n",
    "\n",
    "print(f'Accuracy (Selected Features): {accuracy_score(y_test, y_pred_selected)}')\n",
    "print(f'Precision (Selected Features): {precision_score(y_test, y_pred_selected, pos_label=\"YES\")}')\n",
    "print(f'Recall (Selected Features): {recall_score(y_test, y_pred_selected, pos_label=\"YES\")}')\n",
    "print(f'F1-Score (Selected Features): {f1_score(y_test, y_pred_selected, pos_label=\"YES\")}')"
   ]
  },
  {
   "cell_type": "code",
   "execution_count": 13,
   "metadata": {},
   "outputs": [
    {
     "data": {
      "image/png": "[encoded data removed]",
      "text/plain": [
       "<Figure size 640x480 with 1 Axes>"
      ]
     },
     "metadata": {},
     "output_type": "display_data"
    }
   ],
   "source": [
    "fpr_selected, tpr_selected, thresholds_selected = roc_curve(y_test, model_selected.predict_proba(X_test_selected)[:,1], pos_label=\"YES\")\n",
    "plt.figure()\n",
    "plt.plot(fpr_selected, tpr_selected, color='blue', lw=2, label='ROC curve with Selected Features (area = %0.2f)' % auc(fpr_selected, tpr_selected))\n",
    "plt.xlabel('False Positive Rate')\n",
    "plt.ylabel('True Positive Rate')\n",
    "plt.title('Receiver Operating Characteristic Curve with Selected Features')\n",
    "plt.legend(loc=\"lower right\")\n",
    "plt.show()"
   ]
  }
 ],
 "metadata": {
  "kernelspec": {
   "display_name": "Python 3",
   "language": "python",
   "name": "python3"
  },
  "language_info": {
   "codemirror_mode": {
    "name": "ipython",
    "version": 3
   },
   "file_extension": ".py",
   "mimetype": "text/x-python",
   "name": "python",
   "nbconvert_exporter": "python",
   "pygments_lexer": "ipython3",
   "version": "3.11.3"
  },
  "orig_nbformat": 4
 },
 "nbformat": 4,
 "nbformat_minor": 2
}
